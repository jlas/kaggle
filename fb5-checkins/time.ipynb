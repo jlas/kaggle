{
 "cells": [
  {
   "cell_type": "markdown",
   "metadata": {},
   "source": [
    "# Check-in time analysis\n",
    "\n",
    "* In this notebook we investigate the temporal characteristics between same-place check-ins\n",
    "* We discover a common frequency of check-ins around period 1400\n",
    "* We deduce that the underlying time data is actually minutes since there are 60*24=1440 minutes in a day"
   ]
  },
  {
   "cell_type": "code",
   "execution_count": 1,
   "metadata": {},
   "outputs": [],
   "source": [
    "%matplotlib inline\n",
    "import pandas as pd\n",
    "import numpy as np\n",
    "import matplotlib.pyplot as plt\n",
    "import itertools\n",
    "import matplotlib as mpl\n",
    "# Enable grid by default\n",
    "mpl.rcParams['axes.grid'] = True\n",
    "mpl.rcParams['grid.color'] = 'k'\n",
    "mpl.rcParams['grid.linestyle'] = ':'\n",
    "mpl.rcParams['grid.linewidth'] = 0.5\n",
    "plt.style.use('seaborn')"
   ]
  },
  {
   "cell_type": "code",
   "execution_count": 2,
   "metadata": {},
   "outputs": [],
   "source": [
    "df = pd.read_csv('train.csv')"
   ]
  },
  {
   "cell_type": "code",
   "execution_count": 3,
   "metadata": {},
   "outputs": [],
   "source": [
    "n_bins = 10000 # Number of histogram bins to use\n",
    "n_places = 100 # Only consider this number of top check-in places"
   ]
  },
  {
   "cell_type": "code",
   "execution_count": 4,
   "metadata": {},
   "outputs": [],
   "source": [
    "# Sort places according to number of check-ins\n",
    "places = df.groupby('place_id')['place_id'].agg('count').sort_values(ascending=False)\n",
    "\n",
    "# Calculate time difference between subsequent same-place check-ins\n",
    "ac = pd.Series()\n",
    "for p in range(n_places):\n",
    "    times = df[df.place_id==places.index[p]].time.sort_values()\n",
    "    _ac = pd.Series([(y-x) for x,y in itertools.combinations(times, 2)])\n",
    "    ac = pd.concat([ac, _ac])"
   ]
  },
  {
   "cell_type": "markdown",
   "metadata": {},
   "source": [
    "### Histogram\n",
    " * The peaks below illustrate the cyclic nature of same-place check-ins"
   ]
  },
  {
   "cell_type": "code",
   "execution_count": 5,
   "metadata": {
    "scrolled": false
   },
   "outputs": [
    {
     "data": {
      "text/plain": [
       "<matplotlib.axes._subplots.AxesSubplot at 0x114075be0>"
      ]
     },
     "execution_count": 5,
     "metadata": {},
     "output_type": "execute_result"
    },
    {
     "data": {
      "image/png": "[encoded data removed]",
      "text/plain": [
       "<matplotlib.figure.Figure at 0x117681da0>"
      ]
     },
     "metadata": {
      "needs_background": "light"
     },
     "output_type": "display_data"
    }
   ],
   "source": [
    "fig = plt.figure(figsize=(12,6))\n",
    "ax = fig.add_subplot(111)\n",
    "ax.set_ylim(0, 150000) # Tweak plot region for clarity\n",
    "ac.hist(bins=n_bins, ax=ax)"
   ]
  },
  {
   "cell_type": "markdown",
   "metadata": {},
   "source": [
    "### Fast Fourier Transform\n",
    " * Notice the most dominant peak is around 1400"
   ]
  },
  {
   "cell_type": "code",
   "execution_count": 7,
   "metadata": {},
   "outputs": [
    {
     "data": {
      "text/plain": [
       "(0, 5000.0)"
      ]
     },
     "execution_count": 7,
     "metadata": {},
     "output_type": "execute_result"
    },
    {
     "data": {
      "image/png": "[encoded data removed]",
      "text/plain": [
       "<matplotlib.figure.Figure at 0x11c58c2e8>"
      ]
     },
     "metadata": {
      "needs_background": "light"
     },
     "output_type": "display_data"
    }
   ],
   "source": [
    "# Fast fourier transform (https://plot.ly/matplotlib/fft/)\n",
    "hist, bins = np.histogram(ac, bins=n_bins)\n",
    "Ts = bins[-1]/n_bins; # sampling interval\n",
    "Fs = 1.0/Ts;  # sampling rate\n",
    "\n",
    "n = len(hist) # length of the signal\n",
    "k = np.arange(n)\n",
    "T = n/Fs\n",
    "k[0] = 1 # avoid divide by 0\n",
    "frq = T/k # two sides frequency range\n",
    "frq[0] = float('inf') # avoid divide by 0\n",
    "frq = frq[range(n//2)] # one side frequency range\n",
    "\n",
    "Y = np.fft.fft(hist)/n # fft computing and normalization\n",
    "Y = Y[range(n//2)]\n",
    "\n",
    "fig = plt.figure()\n",
    "ax = fig.add_subplot(111)\n",
    "ax.plot(frq,abs(Y),'r')\n",
    "ax.set_xlabel('Intervals')\n",
    "ax.set_ylabel('|Y(freq)|')\n",
    "ax.set_xlim([0,n/2])"
   ]
  },
  {
   "cell_type": "code",
   "execution_count": 8,
   "metadata": {},
   "outputs": [
    {
     "data": {
      "text/html": [
       "<div>\n",
       "<style>\n",
       "    .dataframe thead tr:only-child th {\n",
       "        text-align: right;\n",
       "    }\n",
       "\n",
       "    .dataframe thead th {\n",
       "        text-align: left;\n",
       "    }\n",
       "\n",
       "    .dataframe tbody tr th {\n",
       "        vertical-align: top;\n",
       "    }\n",
       "</style>\n",
       "<table border=\"1\" class=\"dataframe\">\n",
       "  <thead>\n",
       "    <tr style=\"text-align: right;\">\n",
       "      <th></th>\n",
       "      <th>intervals</th>\n",
       "      <th>power</th>\n",
       "    </tr>\n",
       "  </thead>\n",
       "  <tbody>\n",
       "    <tr>\n",
       "      <th>546</th>\n",
       "      <td>1439.930403</td>\n",
       "      <td>4098.513810</td>\n",
       "    </tr>\n",
       "    <tr>\n",
       "      <th>545</th>\n",
       "      <td>1442.572477</td>\n",
       "      <td>1787.284380</td>\n",
       "    </tr>\n",
       "    <tr>\n",
       "      <th>547</th>\n",
       "      <td>1437.297989</td>\n",
       "      <td>1601.492349</td>\n",
       "    </tr>\n",
       "    <tr>\n",
       "      <th>548</th>\n",
       "      <td>1434.675182</td>\n",
       "      <td>1380.652661</td>\n",
       "    </tr>\n",
       "    <tr>\n",
       "      <th>544</th>\n",
       "      <td>1445.224265</td>\n",
       "      <td>1271.812588</td>\n",
       "    </tr>\n",
       "    <tr>\n",
       "      <th>1092</th>\n",
       "      <td>719.965201</td>\n",
       "      <td>1140.489946</td>\n",
       "    </tr>\n",
       "    <tr>\n",
       "      <th>549</th>\n",
       "      <td>1432.061931</td>\n",
       "      <td>976.233945</td>\n",
       "    </tr>\n",
       "    <tr>\n",
       "      <th>543</th>\n",
       "      <td>1447.885820</td>\n",
       "      <td>870.150411</td>\n",
       "    </tr>\n",
       "    <tr>\n",
       "      <th>550</th>\n",
       "      <td>1429.458182</td>\n",
       "      <td>697.639025</td>\n",
       "    </tr>\n",
       "    <tr>\n",
       "      <th>468</th>\n",
       "      <td>1679.918803</td>\n",
       "      <td>619.479683</td>\n",
       "    </tr>\n",
       "    <tr>\n",
       "      <th>542</th>\n",
       "      <td>1450.557196</td>\n",
       "      <td>585.050524</td>\n",
       "    </tr>\n",
       "    <tr>\n",
       "      <th>624</th>\n",
       "      <td>1259.939103</td>\n",
       "      <td>576.716735</td>\n",
       "    </tr>\n",
       "    <tr>\n",
       "      <th>551</th>\n",
       "      <td>1426.863884</td>\n",
       "      <td>563.321645</td>\n",
       "    </tr>\n",
       "    <tr>\n",
       "      <th>1091</th>\n",
       "      <td>720.625115</td>\n",
       "      <td>513.876974</td>\n",
       "    </tr>\n",
       "    <tr>\n",
       "      <th>1638</th>\n",
       "      <td>479.976801</td>\n",
       "      <td>507.682219</td>\n",
       "    </tr>\n",
       "    <tr>\n",
       "      <th>552</th>\n",
       "      <td>1424.278986</td>\n",
       "      <td>489.471859</td>\n",
       "    </tr>\n",
       "    <tr>\n",
       "      <th>541</th>\n",
       "      <td>1453.238447</td>\n",
       "      <td>488.290341</td>\n",
       "    </tr>\n",
       "    <tr>\n",
       "      <th>1094</th>\n",
       "      <td>718.648995</td>\n",
       "      <td>444.593543</td>\n",
       "    </tr>\n",
       "    <tr>\n",
       "      <th>1093</th>\n",
       "      <td>719.306496</td>\n",
       "      <td>436.038570</td>\n",
       "    </tr>\n",
       "    <tr>\n",
       "      <th>540</th>\n",
       "      <td>1455.929630</td>\n",
       "      <td>416.483487</td>\n",
       "    </tr>\n",
       "  </tbody>\n",
       "</table>\n",
       "</div>"
      ],
      "text/plain": [
       "        intervals        power\n",
       "546   1439.930403  4098.513810\n",
       "545   1442.572477  1787.284380\n",
       "547   1437.297989  1601.492349\n",
       "548   1434.675182  1380.652661\n",
       "544   1445.224265  1271.812588\n",
       "1092   719.965201  1140.489946\n",
       "549   1432.061931   976.233945\n",
       "543   1447.885820   870.150411\n",
       "550   1429.458182   697.639025\n",
       "468   1679.918803   619.479683\n",
       "542   1450.557196   585.050524\n",
       "624   1259.939103   576.716735\n",
       "551   1426.863884   563.321645\n",
       "1091   720.625115   513.876974\n",
       "1638   479.976801   507.682219\n",
       "552   1424.278986   489.471859\n",
       "541   1453.238447   488.290341\n",
       "1094   718.648995   444.593543\n",
       "1093   719.306496   436.038570\n",
       "540   1455.929630   416.483487"
      ]
     },
     "execution_count": 8,
     "metadata": {},
     "output_type": "execute_result"
    }
   ],
   "source": [
    "# Sort and display intervals by power\n",
    "df = pd.DataFrame(data={'intervals': frq, 'power': abs(Y)})\n",
    "df[df.intervals<(n_bins/2)].sort_values(['power'], ascending=False)[:20]"
   ]
  }
 ],
 "metadata": {
  "kernelspec": {
   "display_name": "Python 3",
   "language": "python",
   "name": "python3"
  },
  "language_info": {
   "codemirror_mode": {
    "name": "ipython",
    "version": 3
   },
   "file_extension": ".py",
   "mimetype": "text/x-python",
   "name": "python",
   "nbconvert_exporter": "python",
   "pygments_lexer": "ipython3",
   "version": "3.6.8"
  }
 },
 "nbformat": 4,
 "nbformat_minor": 1
}
